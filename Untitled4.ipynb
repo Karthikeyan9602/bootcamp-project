{
  "nbformat": 4,
  "nbformat_minor": 0,
  "metadata": {
    "colab": {
      "name": "Untitled4.ipynb",
      "provenance": [],
      "collapsed_sections": []
    },
    "kernelspec": {
      "display_name": "Python 3",
      "name": "python3"
    },
    "language_info": {
      "name": "python"
    }
  },
  "cells": [
    {
      "cell_type": "code",
      "metadata": {
        "colab": {
          "base_uri": "https://localhost:8080/"
        },
        "id": "Ys1MWrzPp2F7",
        "outputId": "a4920164-0c91-41e8-bc47-c83c80782162"
      },
      "source": [
        "import requests\n",
        "\n",
        "from datetime import datetime\n",
        "api_key = '151984c4f04411ac0ffb49e868ff823c'\n",
        "location = input(\"Enter the city name: \")\n",
        "\n",
        "complete_api_link = \"https://api.openweathermap.org/data/2.5/weather?q=\"+location+\"&appid=\"+api_key\n",
        "api_link = requests.get(complete_api_link)\n",
        "api_data = api_link.json()\n",
        "\n",
        "temp_city = ((api_data['main']['temp']) -273.15)\n",
        "weather_desc = api_data['weather'][0]['description']\n",
        "hmdt = api_data['main']['humidity']\n",
        "wind_spd = api_data['wind']['speed']\n",
        "date_time = datetime.now().strftime(\"%d %b %Y| %I:%M:%S %p\")\n",
        "\n",
        "x = open(\"Weather_Report.txt\",'a')\n",
        "print (\"---------------------------------------------------------\",file=x)\n",
        "print (\"Weather Stats for - {} || {}\".format(location.upper(), date_time),file=x)\n",
        "print (\"---------------------------------------------------------\",file=x)\n",
        "print(\"Current temperature is: {:.2f} deg C\".format(temp_city),file=x)\n",
        "print(\"Current weather desc  :\",weather_desc,file=x)\n",
        "print(\"Current Humidity      :\",hmdt,'%',file=x)\n",
        "print(\"Current Wind speed    :\",wind_spd ,'kmph',file=x)\n",
        "x.close()\n",
        "\n"
      ],
      "execution_count": 48,
      "outputs": [
        {
          "output_type": "stream",
          "text": [
            "Enter the city name: Alappuzha\n"
          ],
          "name": "stdout"
        }
      ]
    },
    {
      "cell_type": "markdown",
      "metadata": {
        "id": "jx7mFGyx-zNK"
      },
      "source": [
        ""
      ]
    }
  ]
}